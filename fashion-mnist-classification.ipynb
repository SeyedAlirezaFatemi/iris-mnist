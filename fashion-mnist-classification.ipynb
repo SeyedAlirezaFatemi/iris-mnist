{
 "cells": [
  {
   "cell_type": "markdown",
   "metadata": {},
   "source": [
    "# Import dependencies"
   ]
  },
  {
   "cell_type": "code",
   "execution_count": 24,
   "metadata": {
    "pycharm": {
     "is_executing": false
    }
   },
   "outputs": [],
   "source": [
    "%matplotlib inline\n",
    "import numpy as np\n",
    "import pandas as pd\n",
    "import matplotlib.pyplot as plt\n",
    "from sklearn.svm import LinearSVC\n",
    "from sklearn.svm import SVC\n",
    "from sklearn.metrics import confusion_matrix\n",
    "from sklearn.model_selection import train_test_split\n",
    "from sklearn.neighbors import KNeighborsClassifier\n",
    "from sklearn.tree import DecisionTreeClassifier\n",
    "from sklearn.neural_network import MLPClassifier\n",
    "\n",
    "plt.style.use('ggplot')\n",
    "random_state = 42"
   ]
  },
  {
   "cell_type": "markdown",
   "metadata": {},
   "source": [
    "# Read data "
   ]
  },
  {
   "cell_type": "code",
   "execution_count": 2,
   "metadata": {},
   "outputs": [
    {
     "data": {
      "image/png": "[encoded data removed]",
      "text/plain": [
       "<Figure size 1440x288 with 10 Axes>"
      ]
     },
     "metadata": {
      "needs_background": "light"
     },
     "output_type": "display_data"
    }
   ],
   "source": [
    "df = pd.read_csv('fashion-mnist.csv')\n",
    "\n",
    "y = df.loc[:, 'y'].copy().values\n",
    "X = df.drop(['y'], axis=1).copy().values\n",
    "\n",
    "n = 10\n",
    "plt.figure(figsize=(20, 4))\n",
    "for i in range(n):\n",
    "    ax = plt.subplot(2, n, i + 1)\n",
    "    plt.imshow(X[i].reshape(28, 28))\n",
    "    plt.gray()\n",
    "    plt.title('{}'.format((y[i])), fontsize=15)\n",
    "    ax.get_xaxis().set_visible(False)\n",
    "    ax.get_yaxis().set_visible(False)\n",
    "\n",
    "plt.show()\n",
    "plt.close()"
   ]
  },
  {
   "cell_type": "markdown",
   "metadata": {},
   "source": [
    "# Split data"
   ]
  },
  {
   "cell_type": "code",
   "execution_count": 3,
   "metadata": {},
   "outputs": [],
   "source": [
    "X_train, X_valid, y_train, y_valid = train_test_split(\n",
    "    X, y, test_size=0.5, random_state=random_state, shuffle=True, stratify=y)"
   ]
  },
  {
   "cell_type": "code",
   "execution_count": 4,
   "metadata": {},
   "outputs": [
    {
     "name": "stdout",
     "output_type": "stream",
     "text": [
      "Counter({7: 519, 2: 515, 3: 508, 8: 507, 6: 506, 1: 500, 9: 500, 4: 494, 0: 492, 5: 459})\n",
      "Counter({7: 520, 2: 515, 3: 508, 8: 506, 6: 506, 9: 501, 1: 500, 4: 494, 0: 492, 5: 458})\n"
     ]
    }
   ],
   "source": [
    "print(collections.Counter(y_valid))\n",
    "print(collections.Counter(y_train))"
   ]
  },
  {
   "cell_type": "markdown",
   "metadata": {},
   "source": [
    "# Applied algorithms "
   ]
  },
  {
   "cell_type": "code",
   "execution_count": 5,
   "metadata": {},
   "outputs": [],
   "source": [
    "def print_accuracy_confusion(clf, X, y):\n",
    "    print('Accuracy on validation set: {}'.format(\n",
    "        (y_valid == clf.predict(X_valid)).sum()/len(y_valid)))\n",
    "    print(confusion_matrix(y_valid, clf.predict(X_valid)))"
   ]
  },
  {
   "cell_type": "markdown",
   "metadata": {},
   "source": [
    "## SVM with Linear Kernel "
   ]
  },
  {
   "cell_type": "code",
   "execution_count": 6,
   "metadata": {},
   "outputs": [],
   "source": [
    "lin_clf = LinearSVC()"
   ]
  },
  {
   "cell_type": "code",
   "execution_count": 7,
   "metadata": {},
   "outputs": [
    {
     "name": "stderr",
     "output_type": "stream",
     "text": [
      "/home/alireza/anaconda3/envs/ml-project/lib/python3.7/site-packages/sklearn/svm/base.py:929: ConvergenceWarning: Liblinear failed to converge, increase the number of iterations.\n",
      "  \"the number of iterations.\", ConvergenceWarning)\n"
     ]
    },
    {
     "data": {
      "text/plain": [
       "LinearSVC(C=1.0, class_weight=None, dual=True, fit_intercept=True,\n",
       "          intercept_scaling=1, loss='squared_hinge', max_iter=1000,\n",
       "          multi_class='ovr', penalty='l2', random_state=None, tol=0.0001,\n",
       "          verbose=0)"
      ]
     },
     "execution_count": 7,
     "metadata": {},
     "output_type": "execute_result"
    }
   ],
   "source": [
    "lin_clf.fit(X_train, y_train)"
   ]
  },
  {
   "cell_type": "code",
   "execution_count": 8,
   "metadata": {},
   "outputs": [
    {
     "name": "stdout",
     "output_type": "stream",
     "text": [
      "Accuracy on validation set: 0.7628\n",
      "[[317   9  20  27   7   1 100   2   9   0]\n",
      " [  2 477   5   7   3   0   5   0   1   0]\n",
      " [ 11   6 344   6  44   2  93   1   7   1]\n",
      " [ 36  20  16 384   7   1  36   0   4   4]\n",
      " [  5   1  65  20 258   1 136   0   8   0]\n",
      " [  5   0   7   3   4 364   4  44  12  16]\n",
      " [ 60   6  61  17  34   1 318   0   9   0]\n",
      " [  1   0   0   0   0  23   3 455   3  34]\n",
      " [  7   1  12   6   3   4  19   4 450   1]\n",
      " [  3   0   1   1   0  16   4  28   0 447]]\n"
     ]
    }
   ],
   "source": [
    "print_accuracy_confusion(lin_clf, X_valid, y_valid)"
   ]
  },
  {
   "cell_type": "markdown",
   "metadata": {},
   "source": [
    "## SVM with RBF Kernel "
   ]
  },
  {
   "cell_type": "markdown",
   "metadata": {},
   "source": [
    "### Hyperparameter testing"
   ]
  },
  {
   "cell_type": "markdown",
   "metadata": {},
   "source": [
    "Choose the best gamma based on performance on validation set: "
   ]
  },
  {
   "cell_type": "code",
   "execution_count": 9,
   "metadata": {},
   "outputs": [],
   "source": [
    "# https://scikit-learn.org/stable/auto_examples/svm/plot_rbf_parameters.html\n",
    "gamma_range = np.logspace(-8, 3, 12)\n",
    "results = []\n",
    "rbf_classifiers = []\n",
    "for gamma in gamma_range:\n",
    "    rbf_svc = SVC(kernel='rbf', gamma=gamma)\n",
    "    rbf_svc.fit(X_train, y_train)\n",
    "    rbf_classifiers.append(\n",
    "        (rbf_svc, gamma, (y_valid == rbf_svc.predict(X_valid)).sum()/len(y_valid)))"
   ]
  },
  {
   "cell_type": "code",
   "execution_count": 10,
   "metadata": {},
   "outputs": [],
   "source": [
    "best = max(rbf_classifiers, key=lambda res: res[2])"
   ]
  },
  {
   "cell_type": "code",
   "execution_count": 11,
   "metadata": {},
   "outputs": [
    {
     "name": "stdout",
     "output_type": "stream",
     "text": [
      "Best gamma is 1e-07 with 0.8422 accuracy\n"
     ]
    }
   ],
   "source": [
    "print('Best gamma is {} with {} accuracy'.format(best[1], best[2]))"
   ]
  },
  {
   "cell_type": "code",
   "execution_count": 12,
   "metadata": {},
   "outputs": [
    {
     "name": "stdout",
     "output_type": "stream",
     "text": [
      "Accuracy on validation set: 0.8422\n",
      "[[414   2   4  31   1   0  31   0   9   0]\n",
      " [  2 474   8  14   1   0   1   0   0   0]\n",
      " [ 11   0 383   8  60   0  45   0   8   0]\n",
      " [ 26   3   1 462   7   0   8   0   1   0]\n",
      " [  2   0  33  16 384   0  57   0   2   0]\n",
      " [  0   0   0   0   0 401   0  41   5  12]\n",
      " [ 89   1  68  16  41   0 286   0   5   0]\n",
      " [  0   0   0   0   0  15   0 464   1  39]\n",
      " [  3   0   1   2   1   2   9   0 489   0]\n",
      " [  0   0   0   0   0  10   0  36   0 454]]\n"
     ]
    }
   ],
   "source": [
    "print_accuracy_confusion(best[0], X_valid, y_valid)"
   ]
  },
  {
   "cell_type": "markdown",
   "metadata": {},
   "source": [
    "## K-Nearest Neighbors "
   ]
  },
  {
   "cell_type": "markdown",
   "metadata": {},
   "source": [
    "Choose the best k based on performance on validation set: "
   ]
  },
  {
   "cell_type": "code",
   "execution_count": 13,
   "metadata": {},
   "outputs": [],
   "source": [
    "k_opts = [5, 10, 15, 20]\n",
    "neigh_classifiers = []\n",
    "for k in k_opts:\n",
    "    neigh = KNeighborsClassifier(n_neighbors=k)\n",
    "    neigh.fit(X_train, y_train)\n",
    "    neigh_classifiers.append(\n",
    "        (neigh, k, (y_valid == neigh.predict(X_valid)).sum()/len(y_valid)))"
   ]
  },
  {
   "cell_type": "code",
   "execution_count": 14,
   "metadata": {},
   "outputs": [],
   "source": [
    "best = max(rbf_classifiers, key=lambda res: res[2])"
   ]
  },
  {
   "cell_type": "code",
   "execution_count": 15,
   "metadata": {},
   "outputs": [
    {
     "name": "stdout",
     "output_type": "stream",
     "text": [
      "Best k is 1e-07 with 0.8422 accuracy\n"
     ]
    }
   ],
   "source": [
    "print('Best k is {} with {} accuracy'.format(best[1], best[2]))"
   ]
  },
  {
   "cell_type": "code",
   "execution_count": 16,
   "metadata": {
    "scrolled": true
   },
   "outputs": [
    {
     "name": "stdout",
     "output_type": "stream",
     "text": [
      "Accuracy on validation set: 0.8422\n",
      "[[414   2   4  31   1   0  31   0   9   0]\n",
      " [  2 474   8  14   1   0   1   0   0   0]\n",
      " [ 11   0 383   8  60   0  45   0   8   0]\n",
      " [ 26   3   1 462   7   0   8   0   1   0]\n",
      " [  2   0  33  16 384   0  57   0   2   0]\n",
      " [  0   0   0   0   0 401   0  41   5  12]\n",
      " [ 89   1  68  16  41   0 286   0   5   0]\n",
      " [  0   0   0   0   0  15   0 464   1  39]\n",
      " [  3   0   1   2   1   2   9   0 489   0]\n",
      " [  0   0   0   0   0  10   0  36   0 454]]\n"
     ]
    }
   ],
   "source": [
    "print_accuracy_confusion(best[0], X_valid, y_valid)"
   ]
  },
  {
   "cell_type": "markdown",
   "metadata": {},
   "source": [
    "## Decision Tree"
   ]
  },
  {
   "cell_type": "code",
   "execution_count": 17,
   "metadata": {
    "scrolled": false
   },
   "outputs": [
    {
     "data": {
      "text/plain": [
       "DecisionTreeClassifier(class_weight=None, criterion='gini', max_depth=None,\n",
       "                       max_features=None, max_leaf_nodes=None,\n",
       "                       min_impurity_decrease=0.0, min_impurity_split=None,\n",
       "                       min_samples_leaf=1, min_samples_split=2,\n",
       "                       min_weight_fraction_leaf=0.0, presort=False,\n",
       "                       random_state=42, splitter='best')"
      ]
     },
     "execution_count": 17,
     "metadata": {},
     "output_type": "execute_result"
    }
   ],
   "source": [
    "dt = DecisionTreeClassifier(random_state=random_state)\n",
    "dt.fit(X_train, y_train)"
   ]
  },
  {
   "cell_type": "code",
   "execution_count": 18,
   "metadata": {
    "scrolled": false
   },
   "outputs": [
    {
     "name": "stdout",
     "output_type": "stream",
     "text": [
      "Accuracy on validation set: 0.73\n",
      "[[321   8   8  37   8   3  91   0  15   1]\n",
      " [  4 469   0  19   1   2   4   0   1   0]\n",
      " [ 15   5 310  14  79   3  71   0  16   2]\n",
      " [ 32  24   9 388  19   2  30   0   4   0]\n",
      " [  1   7  85  34 296   0  66   0   5   0]\n",
      " [  2   2   1   2   0 353   0  49  34  16]\n",
      " [ 83   3  74  30  63   1 239   1  11   1]\n",
      " [  0   1   0   0   1  34   1 434   6  42]\n",
      " [  4   8   7  11  12   9  13  10 430   3]\n",
      " [  1   0   0   1   3  24   2  48  11 410]]\n"
     ]
    }
   ],
   "source": [
    "print_accuracy_confusion(dt, X_valid, y_valid)"
   ]
  },
  {
   "cell_type": "markdown",
   "metadata": {},
   "source": [
    "## Neural Network "
   ]
  },
  {
   "cell_type": "markdown",
   "metadata": {},
   "source": [
    "Choose the best activation function based on performance on validation set: "
   ]
  },
  {
   "cell_type": "code",
   "execution_count": 19,
   "metadata": {},
   "outputs": [
    {
     "name": "stderr",
     "output_type": "stream",
     "text": [
      "/home/alireza/anaconda3/envs/ml-project/lib/python3.7/site-packages/sklearn/neural_network/multilayer_perceptron.py:566: ConvergenceWarning: Stochastic Optimizer: Maximum iterations (100) reached and the optimization hasn't converged yet.\n",
      "  % self.max_iter, ConvergenceWarning)\n"
     ]
    }
   ],
   "source": [
    "activation_opts = ['logistic', 'tanh', 'relu']\n",
    "nn_classifiers = []\n",
    "for activation in activation_opts:\n",
    "    nn = MLPClassifier(hidden_layer_sizes=(100, 100),\n",
    "                       solver='sgd', activation=activation, max_iter=100)\n",
    "    nn.fit(X_train, y_train)\n",
    "    nn_classifiers.append(\n",
    "        (nn, activation, (y_valid == nn.predict(X_valid)).sum()/len(y_valid)))"
   ]
  },
  {
   "cell_type": "code",
   "execution_count": 25,
   "metadata": {},
   "outputs": [
    {
     "name": "stdout",
     "output_type": "stream",
     "text": [
      "Accuracy on validation set: 0.724\n",
      "[[407   7  10  33   2   0  22   0  11   0]\n",
      " [  8 469   5  13   1   0   3   0   1   0]\n",
      " [ 12   0 385   7  66   0  31   0  14   0]\n",
      " [ 50   2   1 432   4   0  19   0   0   0]\n",
      " [  8   3 129  21 306   0  23   0   4   0]\n",
      " [  0   0   0   0   0 171   0 155  16 117]\n",
      " [113   1 251  11  55   0  63   0  12   0]\n",
      " [  0   0   0   0   0   6   0 459   1  53]\n",
      " [  3   0  10   8   4   2   7   4 469   0]\n",
      " [  0   0   0   0   0   3   0  37   1 459]]\n"
     ]
    },
    {
     "data": {
      "image/png": "[encoded data removed]",
      "text/plain": [
       "<Figure size 432x288 with 1 Axes>"
      ]
     },
     "metadata": {},
     "output_type": "display_data"
    },
    {
     "name": "stdout",
     "output_type": "stream",
     "text": [
      "Accuracy on validation set: 0.775\n",
      "[[384   8   5  32   4   1  35   0  23   0]\n",
      " [  2 469   8  14   2   0   5   0   0   0]\n",
      " [ 11   2 240   5 176   0  66   0  15   0]\n",
      " [ 29   3   0 429  25   0  20   0   2   0]\n",
      " [  1   2  22  14 408   0  38   0   9   0]\n",
      " [  0   0   0   0   0 376   0  44   6  33]\n",
      " [113   2  39  15 132   0 186   0  19   0]\n",
      " [  0   0   0   0   0  19   0 449   1  50]\n",
      " [  2   1   2   2   8   5   4   2 481   0]\n",
      " [  0   0   0   0   0  12   0  34   1 453]]\n"
     ]
    },
    {
     "data": {
      "image/png": "[encoded data removed]",
      "text/plain": [
       "<Figure size 432x288 with 1 Axes>"
      ]
     },
     "metadata": {},
     "output_type": "display_data"
    },
    {
     "name": "stdout",
     "output_type": "stream",
     "text": [
      "Accuracy on validation set: 0.1016\n",
      "[[  0   0   0 492   0   0   0   0   0   0]\n",
      " [  0   0   0 500   0   0   0   0   0   0]\n",
      " [  0   0   0 515   0   0   0   0   0   0]\n",
      " [  0   0   0 508   0   0   0   0   0   0]\n",
      " [  0   0   0 494   0   0   0   0   0   0]\n",
      " [  0   0   0 458   0   0   0   0   1   0]\n",
      " [  0   0   0 506   0   0   0   0   0   0]\n",
      " [  0   0   0 519   0   0   0   0   0   0]\n",
      " [  0   0   0 507   0   0   0   0   0   0]\n",
      " [  0   0   0 500   0   0   0   0   0   0]]\n"
     ]
    },
    {
     "data": {
      "image/png": "[encoded data removed]",
      "text/plain": [
       "<Figure size 432x288 with 1 Axes>"
      ]
     },
     "metadata": {},
     "output_type": "display_data"
    }
   ],
   "source": [
    "for nn, activation, accuracy in nn_classifiers:\n",
    "    print_accuracy_confusion(nn, X_valid, y_valid)\n",
    "    plt.scatter(list(range(1, len(nn.loss_curve_)+1)), nn.loss_curve_)\n",
    "    plt.show()"
   ]
  },
  {
   "cell_type": "code",
   "execution_count": 21,
   "metadata": {},
   "outputs": [],
   "source": [
    "best = max(nn_classifiers, key=lambda res: res[2])"
   ]
  },
  {
   "cell_type": "code",
   "execution_count": 22,
   "metadata": {},
   "outputs": [
    {
     "name": "stdout",
     "output_type": "stream",
     "text": [
      "Best activation is tanh with 0.775 accuracy\n"
     ]
    }
   ],
   "source": [
    "print('Best activation is {} with {} accuracy'.format(best[1], best[2]))"
   ]
  },
  {
   "cell_type": "code",
   "execution_count": 23,
   "metadata": {
    "scrolled": true
   },
   "outputs": [
    {
     "name": "stdout",
     "output_type": "stream",
     "text": [
      "Accuracy on validation set: 0.775\n",
      "[[384   8   5  32   4   1  35   0  23   0]\n",
      " [  2 469   8  14   2   0   5   0   0   0]\n",
      " [ 11   2 240   5 176   0  66   0  15   0]\n",
      " [ 29   3   0 429  25   0  20   0   2   0]\n",
      " [  1   2  22  14 408   0  38   0   9   0]\n",
      " [  0   0   0   0   0 376   0  44   6  33]\n",
      " [113   2  39  15 132   0 186   0  19   0]\n",
      " [  0   0   0   0   0  19   0 449   1  50]\n",
      " [  2   1   2   2   8   5   4   2 481   0]\n",
      " [  0   0   0   0   0  12   0  34   1 453]]\n"
     ]
    }
   ],
   "source": [
    "print_accuracy_confusion(best[0], X_valid, y_valid)"
   ]
  }
 ],
 "metadata": {
  "kernelspec": {
   "display_name": "Python 3",
   "language": "python",
   "name": "python3"
  },
  "language_info": {
   "codemirror_mode": {
    "name": "ipython",
    "version": 3
   },
   "file_extension": ".py",
   "mimetype": "text/x-python",
   "name": "python",
   "nbconvert_exporter": "python",
   "pygments_lexer": "ipython3",
   "version": "3.7.3"
  },
  "toc": {
   "base_numbering": 1,
   "nav_menu": {},
   "number_sections": true,
   "sideBar": true,
   "skip_h1_title": false,
   "title_cell": "Table of Contents",
   "title_sidebar": "Contents",
   "toc_cell": false,
   "toc_position": {},
   "toc_section_display": true,
   "toc_window_display": false
  },
  "varInspector": {
   "cols": {
    "lenName": 16,
    "lenType": 16,
    "lenVar": 40
   },
   "kernels_config": {
    "python": {
     "delete_cmd_postfix": "",
     "delete_cmd_prefix": "del ",
     "library": "var_list.py",
     "varRefreshCmd": "print(var_dic_list())"
    },
    "r": {
     "delete_cmd_postfix": ") ",
     "delete_cmd_prefix": "rm(",
     "library": "var_list.r",
     "varRefreshCmd": "cat(var_dic_list()) "
    }
   },
   "types_to_exclude": [
    "module",
    "function",
    "builtin_function_or_method",
    "instance",
    "_Feature"
   ],
   "window_display": false
  }
 },
 "nbformat": 4,
 "nbformat_minor": 1
}
